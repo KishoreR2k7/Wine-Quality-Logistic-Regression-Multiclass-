{
 "cells": [
  {
   "cell_type": "code",
   "execution_count": 1,
   "id": "05b17f20",
   "metadata": {},
   "outputs": [
    {
     "data": {
      "text/html": [
       "<div>\n",
       "<style scoped>\n",
       "    .dataframe tbody tr th:only-of-type {\n",
       "        vertical-align: middle;\n",
       "    }\n",
       "\n",
       "    .dataframe tbody tr th {\n",
       "        vertical-align: top;\n",
       "    }\n",
       "\n",
       "    .dataframe thead th {\n",
       "        text-align: right;\n",
       "    }\n",
       "</style>\n",
       "<table border=\"1\" class=\"dataframe\">\n",
       "  <thead>\n",
       "    <tr style=\"text-align: right;\">\n",
       "      <th></th>\n",
       "      <th>acidity</th>\n",
       "      <th>sugar</th>\n",
       "      <th>pH</th>\n",
       "      <th>alcohol</th>\n",
       "      <th>density</th>\n",
       "      <th>quality</th>\n",
       "    </tr>\n",
       "  </thead>\n",
       "  <tbody>\n",
       "    <tr>\n",
       "      <th>0</th>\n",
       "      <td>5.822205</td>\n",
       "      <td>7.530753</td>\n",
       "      <td>2.840060</td>\n",
       "      <td>8.178009</td>\n",
       "      <td>0.997923</td>\n",
       "      <td>6</td>\n",
       "    </tr>\n",
       "    <tr>\n",
       "      <th>1</th>\n",
       "      <td>3.958912</td>\n",
       "      <td>1.870711</td>\n",
       "      <td>3.236432</td>\n",
       "      <td>12.052521</td>\n",
       "      <td>0.982155</td>\n",
       "      <td>3</td>\n",
       "    </tr>\n",
       "    <tr>\n",
       "      <th>2</th>\n",
       "      <td>4.058777</td>\n",
       "      <td>5.780638</td>\n",
       "      <td>3.679162</td>\n",
       "      <td>8.269121</td>\n",
       "      <td>1.048007</td>\n",
       "      <td>8</td>\n",
       "    </tr>\n",
       "    <tr>\n",
       "      <th>3</th>\n",
       "      <td>5.423008</td>\n",
       "      <td>9.650478</td>\n",
       "      <td>3.784453</td>\n",
       "      <td>10.703582</td>\n",
       "      <td>0.995452</td>\n",
       "      <td>6</td>\n",
       "    </tr>\n",
       "    <tr>\n",
       "      <th>4</th>\n",
       "      <td>6.771268</td>\n",
       "      <td>11.705997</td>\n",
       "      <td>3.175794</td>\n",
       "      <td>13.576560</td>\n",
       "      <td>1.031382</td>\n",
       "      <td>5</td>\n",
       "    </tr>\n",
       "  </tbody>\n",
       "</table>\n",
       "</div>"
      ],
      "text/plain": [
       "    acidity      sugar        pH    alcohol   density  quality\n",
       "0  5.822205   7.530753  2.840060   8.178009  0.997923        6\n",
       "1  3.958912   1.870711  3.236432  12.052521  0.982155        3\n",
       "2  4.058777   5.780638  3.679162   8.269121  1.048007        8\n",
       "3  5.423008   9.650478  3.784453  10.703582  0.995452        6\n",
       "4  6.771268  11.705997  3.175794  13.576560  1.031382        5"
      ]
     },
     "execution_count": 1,
     "metadata": {},
     "output_type": "execute_result"
    }
   ],
   "source": [
    "import numpy as np\n",
    "import pandas as pd\n",
    "df=pd.read_csv('wine_quality.csv')\n",
    "df.head()"
   ]
  },
  {
   "cell_type": "code",
   "execution_count": 27,
   "id": "bc9b1f82",
   "metadata": {},
   "outputs": [
    {
     "name": "stdout",
     "output_type": "stream",
     "text": [
      "Report:\n",
      "\n",
      "Accuracy:0.15\n",
      "\n",
      "Marco-F1:0.15\n",
      "\n",
      "weighted-F1:0.14\n",
      "\n"
     ]
    }
   ],
   "source": [
    "from sklearn.model_selection import train_test_split\n",
    "from sklearn.linear_model import LogisticRegression\n",
    "from sklearn.preprocessing import StandardScaler\n",
    "from sklearn.metrics import accuracy_score,f1_score\n",
    "x=df[['acidity','sugar','pH','alcohol','density']]\n",
    "y=df['quality']\n",
    "x_train,x_test,y_train,y_test=train_test_split(x,y,test_size=0.2,random_state=42)\n",
    "# scale features\n",
    "scaler = StandardScaler()\n",
    "x_train_scaled=scaler.fit_transform(x_train)\n",
    "x_test_scaled=scaler.transform(x_test)\n",
    "# fit logistic regression\n",
    "model=LogisticRegression(max_iter=1000)\n",
    "model.fit(x_train_scaled,y_train)\n",
    "y_pred=model.predict(x_test_scaled)\n",
    "print('Report:\\n')\n",
    "print(f'Accuracy:{accuracy_score(y_test,y_pred):.2f}\\n')\n",
    "print(f'Marco-F1:{f1_score(y_test,y_pred,average=\"macro\"):.2f}\\n')\n",
    "print(f'weighted-F1:{f1_score(y_test,y_pred,average=\"weighted\"):.2f}\\n')"
   ]
  },
  {
   "cell_type": "code",
   "execution_count": 36,
   "id": "c354950d",
   "metadata": {},
   "outputs": [
    {
     "name": "stdout",
     "output_type": "stream",
     "text": [
      "Feature Importance:\n",
      "acidity    0.238700\n",
      "sugar      0.193344\n",
      "pH         0.183057\n",
      "alcohol    0.160333\n",
      "density    0.157013\n",
      "dtype: float64\n"
     ]
    }
   ],
   "source": [
    "import matplotlib.pyplot as plt\n",
    "import seaborn as sns\n",
    "coefficients = pd.DataFrame(model.coef_, columns=x.columns)\n",
    "importance = coefficients.abs().mean().sort_values(ascending=False)\n",
    "print(f'Feature Importance:\\n{importance}')"
   ]
  }
 ],
 "metadata": {
  "kernelspec": {
   "display_name": "Python 3",
   "language": "python",
   "name": "python3"
  },
  "language_info": {
   "codemirror_mode": {
    "name": "ipython",
    "version": 3
   },
   "file_extension": ".py",
   "mimetype": "text/x-python",
   "name": "python",
   "nbconvert_exporter": "python",
   "pygments_lexer": "ipython3",
   "version": "3.13.0"
  }
 },
 "nbformat": 4,
 "nbformat_minor": 5
}
